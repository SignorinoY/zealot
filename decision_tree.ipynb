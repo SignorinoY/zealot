{
 "metadata": {
  "language_info": {
   "codemirror_mode": {
    "name": "ipython",
    "version": 3
   },
   "file_extension": ".py",
   "mimetype": "text/x-python",
   "name": "python",
   "nbconvert_exporter": "python",
   "pygments_lexer": "ipython3",
   "version": "3.8.8"
  },
  "orig_nbformat": 2,
  "kernelspec": {
   "name": "python388jvsc74a57bd0a1dc923bd1ec92b92adf48f4490bc335f1a01d35ebaf6df1da02845d4cd7d9d8",
   "display_name": "Python 3.8.8 64-bit ('base': conda)"
  }
 },
 "nbformat": 4,
 "nbformat_minor": 2,
 "cells": [
  {
   "cell_type": "code",
   "execution_count": 1,
   "metadata": {},
   "outputs": [],
   "source": [
    "from sklearn import datasets\n",
    "import numpy as np\n",
    "\n",
    "from tree.classes import DecisionTreeClassifier, DecisionTreeRegressor\n",
    "from model_selection.kfold import KFold\n",
    "from ensemble.bagging import Bagging"
   ]
  },
  {
   "source": [
    "## Classification"
   ],
   "cell_type": "markdown",
   "metadata": {}
  },
  {
   "cell_type": "code",
   "execution_count": 2,
   "metadata": {},
   "outputs": [],
   "source": [
    "iris = datasets.load_iris()\n",
    "X = iris.data\n",
    "y = iris.target"
   ]
  },
  {
   "cell_type": "code",
   "execution_count": 3,
   "metadata": {},
   "outputs": [
    {
     "output_type": "stream",
     "name": "stdout",
     "text": [
      "[0 0 0 0 0 0 0 0 0 0 0 0 0 0 0 0 0 0 0 0 0 0 0 0 0 0 0 0 0 0 0 0 0 0 0 0 0\n 0 0 0 0 0 0 0 0 0 0 0 0 0 1 1 1 1 1 1 1 1 1 1 1 1 1 1 1 1 1 1 1 1 1 1 1 1\n 1 1 1 1 1 1 1 1 1 1 1 1 1 1 1 1 1 1 1 1 1 1 1 1 1 1 2 2 2 2 2 2 2 2 2 2 2\n 2 2 2 2 2 2 2 2 2 2 2 2 2 2 2 2 2 2 2 2 2 2 2 2 2 2 2 2 2 2 2 2 2 2 2 2 2\n 2 2]\n"
     ]
    }
   ],
   "source": [
    "clf = DecisionTreeClassifier(criterion=\"entropy\")\n",
    "clf = clf.fit(X, y)\n",
    "print(clf.predict(X))"
   ]
  },
  {
   "cell_type": "code",
   "execution_count": 4,
   "metadata": {},
   "outputs": [
    {
     "output_type": "stream",
     "name": "stdout",
     "text": [
      "Error rate: 0.00\n"
     ]
    }
   ],
   "source": [
    "score = clf.score(X, y)\n",
    "print(\"Error rate: %.2f\" %(score))"
   ]
  },
  {
   "source": [
    "### KFold Cross Validation"
   ],
   "cell_type": "markdown",
   "metadata": {}
  },
  {
   "cell_type": "code",
   "execution_count": 5,
   "metadata": {},
   "outputs": [
    {
     "output_type": "stream",
     "name": "stdout",
     "text": [
      "Fold 1, loss = 0.0667\n",
      "Fold 2, loss = 0.1000\n",
      "Fold 3, loss = 0.0000\n",
      "Fold 4, loss = 0.0667\n",
      "Fold 5, loss = 0.0667\n"
     ]
    }
   ],
   "source": [
    "clf = DecisionTreeClassifier(criterion=\"gini\")\n",
    "kf = KFold(5)\n",
    "for k, (train, test) in enumerate(kf.split(X, y)):\n",
    "    X_train, X_test, y_train, y_test = X[train], X[test], y[train], y[test]\n",
    "    clf = clf.fit(X_train, y_train)\n",
    "    score = clf.score(X_test, y_test)\n",
    "    print(\"Fold %d, loss = %.4f\" % (k+1, score))"
   ]
  },
  {
   "source": [
    "### Bagging"
   ],
   "cell_type": "markdown",
   "metadata": {}
  },
  {
   "cell_type": "code",
   "execution_count": 6,
   "metadata": {},
   "outputs": [
    {
     "output_type": "stream",
     "name": "stdout",
     "text": [
      "[0 0 0 0 0 0 0 0 0 0 0 0 0 0 0 0 0 0 0 0 0 0 0 0 0 0 0 0 0 0 0 0 0 0 0 0 0\n 0 0 0 0 0 0 0 0 0 0 0 0 0 1 1 1 1 1 1 1 1 1 1 1 1 1 1 1 1 1 1 1 1 1 1 1 1\n 1 1 1 1 1 1 1 1 1 2 1 1 1 1 1 1 1 1 1 1 1 1 1 1 1 1 2 2 2 2 2 2 2 2 2 2 2\n 2 2 2 2 2 2 2 2 2 2 2 2 2 2 2 2 1 2 2 2 2 2 2 2 2 2 2 1 2 2 2 2 2 2 2 2 2\n 2 2]\n"
     ]
    }
   ],
   "source": [
    "clf = Bagging(DecisionTreeClassifier(), n_estimators=10)\n",
    "clf.fit(X, y)\n",
    "y_hat = clf.predict(X)\n",
    "print(y_hat)"
   ]
  },
  {
   "cell_type": "code",
   "execution_count": 7,
   "metadata": {},
   "outputs": [
    {
     "output_type": "stream",
     "name": "stdout",
     "text": [
      "Error rate: 0.02\n"
     ]
    }
   ],
   "source": [
    "score = clf.score(X, y)\n",
    "print(\"Error rate: %.2f\" %(score))"
   ]
  },
  {
   "cell_type": "code",
   "execution_count": 8,
   "metadata": {},
   "outputs": [
    {
     "output_type": "stream",
     "name": "stdout",
     "text": [
      "Fold 1, loss = 0.0667\n",
      "Fold 2, loss = 0.1333\n",
      "Fold 3, loss = 0.0000\n",
      "Fold 4, loss = 0.0333\n",
      "Fold 5, loss = 0.1000\n"
     ]
    }
   ],
   "source": [
    "clf = Bagging(DecisionTreeClassifier(), n_estimators=10)\n",
    "kf = KFold(5)\n",
    "for k, (train, test) in enumerate(kf.split(X, y)):\n",
    "    X_train, X_test, y_train, y_test = X[train], X[test], y[train], y[test]\n",
    "    clf = clf.fit(X_train, y_train)\n",
    "    score = clf.score(X_test, y_test)\n",
    "    print(\"Fold %d, loss = %.4f\" % (k+1, score))"
   ]
  },
  {
   "source": [
    "## Regression"
   ],
   "cell_type": "markdown",
   "metadata": {}
  },
  {
   "cell_type": "code",
   "execution_count": 9,
   "metadata": {},
   "outputs": [],
   "source": [
    "boston = datasets.load_boston()\n",
    "X = boston.data\n",
    "y = boston.target"
   ]
  },
  {
   "cell_type": "code",
   "execution_count": 10,
   "metadata": {},
   "outputs": [
    {
     "output_type": "stream",
     "name": "stdout",
     "text": [
      "[24.  21.6 34.7 33.4 36.2 28.7 22.9 27.1 16.5 18.9 15.  18.9 21.7 20.4\n 18.2 19.9 23.1 17.5 20.2 18.2 13.6 19.6 15.2 14.5 15.6 13.9 16.6 14.8\n 18.4 21.  12.7 14.5 13.2 13.1 13.5 18.9 20.  21.  24.7 30.8 34.9 26.6\n 25.3 24.7 21.2 19.3 20.  16.6 14.4 19.4 19.7 20.5 25.  23.4 18.9 35.4\n 24.7 31.6 23.3 19.6 18.7 16.  22.2 25.  33.  23.5 19.4 22.  17.4 20.9\n 24.2 21.7 22.8 23.4 24.1 21.4 20.  20.8 21.2 20.3 28.  23.9 24.8 22.9\n 23.9 26.6 22.5 22.2 23.6 28.7 22.6 22.  22.9 25.  20.6 28.4 21.4 38.7\n 43.8 33.2 27.5 26.5 18.6 19.3 20.1 19.5 19.5 20.4 19.8 19.4 21.7 22.8\n 18.8 18.7 18.5 18.3 21.2 19.2 20.4 19.3 22.  20.3 20.5 17.3 18.8 21.4\n 15.7 16.2 18.  14.3 19.2 19.6 23.  18.4 15.6 18.1 17.4 17.1 13.3 17.8\n 14.  14.4 13.4 15.6 11.8 13.8 15.6 14.6 17.8 15.4 21.5 19.6 15.3 19.4\n 17.  15.6 13.1 41.3 24.3 23.3 27.  50.  50.  50.  22.7 25.  50.  23.8\n 23.8 22.3 17.4 19.1 23.1 23.6 22.6 29.4 23.2 24.6 29.9 37.2 39.8 36.2\n 37.9 32.5 26.4 29.6 50.  32.  29.8 34.9 37.  30.5 36.4 31.1 29.1 50.\n 33.3 30.3 34.6 34.9 32.9 24.1 42.3 48.5 50.  22.6 24.4 22.5 24.4 20.\n 21.7 19.3 22.4 28.1 23.7 25.  23.3 28.7 21.5 23.  26.7 21.7 27.5 30.1\n 44.8 50.  37.6 31.6 46.7 31.5 24.3 31.7 41.7 48.3 29.  24.  25.1 31.5\n 23.7 23.3 22.  20.1 22.2 23.7 17.6 18.5 24.3 20.5 24.5 26.2 24.4 24.8\n 29.6 42.8 21.9 20.9 44.  50.  36.  30.1 33.8 43.1 48.8 31.  36.5 22.8\n 30.7 50.  43.5 20.7 21.1 25.2 24.4 35.2 32.4 32.  33.2 33.1 29.1 35.1\n 45.4 35.4 46.  50.  32.2 22.  20.1 23.2 22.3 24.8 28.5 37.3 27.9 23.9\n 21.7 28.6 27.1 20.3 22.5 29.  24.8 22.  26.4 33.1 36.1 28.4 33.4 28.2\n 22.8 20.3 16.1 22.1 19.4 21.6 23.8 16.2 17.8 19.8 23.1 21.  23.8 23.1\n 20.4 18.5 25.  24.6 23.  22.2 19.3 22.6 19.8 17.1 19.4 22.2 20.7 21.1\n 19.5 18.5 20.6 19.  18.7 32.7 16.5 23.9 31.2 17.5 17.2 23.1 24.5 26.6\n 22.9 24.1 18.6 30.1 18.2 20.6 17.8 21.7 22.7 22.6 25.  19.9 20.8 16.8\n 21.9 27.5 21.9 23.1 50.  50.  50.  50.  50.  13.8 13.8 15.  13.9 13.3\n 13.1 10.2 10.4 10.9 11.3 12.3  8.8  7.2 10.5  7.4 10.2 11.5 15.1 23.2\n  9.7 13.8 12.7 13.1 12.5  8.5  5.   6.3  5.6  7.2 12.1  8.3  8.5  5.\n 11.9 27.9 17.2 27.5 15.  17.2 17.9 16.3  7.   7.2  7.5 10.4  8.8  8.4\n 16.7 14.2 20.8 13.4 11.7  8.3 10.2 10.9 11.   9.5 14.5 14.1 16.1 14.3\n 11.7 13.4  9.6  8.7  8.4 12.8 10.5 17.1 18.4 15.4 10.8 11.8 14.9 12.6\n 14.1 13.  13.4 15.2 16.1 17.8 14.9 14.1 12.7 13.5 14.9 20.  16.4 17.7\n 19.5 20.2 21.4 19.9 19.  19.1 19.1 20.1 19.9 19.6 23.2 29.8 13.8 13.3\n 16.7 12.  14.6 21.4 23.  23.7 25.  21.8 20.6 21.2 19.1 20.6 15.2  7.\n  8.1 13.6 20.1 21.8 24.5 23.1 19.7 18.3 21.2 17.5 16.8 22.4 20.6 23.9\n 22.  11.9]\n"
     ]
    }
   ],
   "source": [
    "reg = DecisionTreeRegressor()\n",
    "reg.fit(X, y)\n",
    "y_hat = reg.predict(X)\n",
    "print(y_hat)"
   ]
  },
  {
   "cell_type": "code",
   "execution_count": 11,
   "metadata": {},
   "outputs": [
    {
     "output_type": "stream",
     "name": "stdout",
     "text": [
      "NMSE: 0.00\n"
     ]
    }
   ],
   "source": [
    "score = reg.score(X, y)\n",
    "print(\"NMSE: %.2f\" %(score))"
   ]
  },
  {
   "source": [],
   "cell_type": "markdown",
   "metadata": {}
  },
  {
   "cell_type": "code",
   "execution_count": 12,
   "metadata": {},
   "outputs": [
    {
     "output_type": "stream",
     "name": "stdout",
     "text": [
      "Fold 1, loss = 0.4951\n",
      "Fold 2, loss = 0.1695\n",
      "Fold 3, loss = 0.2865\n",
      "Fold 4, loss = 0.5666\n",
      "Fold 5, loss = 0.1316\n"
     ]
    }
   ],
   "source": [
    "reg = DecisionTreeRegressor()\n",
    "kf = KFold(5)\n",
    "for k, (train, test) in enumerate(kf.split(X, y)):\n",
    "    X_train, X_test, y_train, y_test = X[train], X[test], y[train], y[test]\n",
    "    reg = reg.fit(X_train, y_train)\n",
    "    score = reg.score(X_test, y_test)\n",
    "    print(\"Fold %d, loss = %.4f\" % (k+1, score))"
   ]
  },
  {
   "source": [
    "### Bagging"
   ],
   "cell_type": "markdown",
   "metadata": {}
  },
  {
   "cell_type": "code",
   "execution_count": 13,
   "metadata": {},
   "outputs": [
    {
     "output_type": "stream",
     "name": "stdout",
     "text": [
      "[24.  21.6 34.7 33.4 36.2 28.7 22.8 27.1 16.5 18.9 15.  22.8 21.7 19.6\n 22.6 19.9 23.1 17.5 16.1 19.6 14.1 19.6 15.2 14.5 14.5 13.9 16.6 14.8\n 20.5 21.  12.7 14.5 19.  12.7 13.5 18.9 20.  21.  20.9 30.8 34.9 26.6\n 25.3 24.7 21.2 19.3 16.8 14.4 14.4 19.4 22.8 20.5 25.  23.4 18.9 33.4\n 22.2 31.6 23.3 19.  19.9 16.  22.2 25.  33.4 23.5 19.4 21.  17.4 20.9\n 24.2 20.6 22.8 23.4 24.8 21.4 20.  20.5 21.2 20.3 28.  23.9 24.8 24.8\n 21.4 28.4 21.  24.4 23.6 23.6 22.6 22.9 22.9 24.8 20.6 28.4 21.4 38.7\n 38.7 25.  27.5 26.5 18.6 19.6 20.1 19.5 19.5 20.4 19.8 19.4 21.7 22.8\n 18.8 18.7 18.5 18.3 21.2 19.4 20.4 19.3 22.  20.3 24.4  7.  21.5  7.\n  7.  16.2 17.1 14.3 23.  19.6 23.  18.4 15.6 18.4 17.4 17.1 13.3 17.8\n 14.  14.4 13.4 15.6 11.8 13.1 17.8 14.6 17.8 13.4 23.8 15.3 15.3 19.4\n 19.4 15.6 13.1 23.9 27.5 23.3 27.  37.6 37.6 50.  22.7 25.  50.  23.8\n 23.8 22.3 15.2 19.1 23.1 20.5 22.6 29.4 23.2 24.6 29.9 37.2 39.8 36.2\n 37.9 32.5 26.4 29.6 50.  32.  29.8 34.9 37.  30.5 34.9 31.1 29.1 42.3\n 33.3 33.1 33.3 37.  32.9 24.1 42.3 48.5 50.  22.6 24.4 22.5 24.4 20.\n 21.7 19.3 22.5 24.4 23.7 24.4 23.3 28.7 21.5 23.  26.7 14.4 27.5 27.5\n 44.8 50.  37.6 31.6 46.7 31.5 24.3 31.7 41.7 48.3 29.  24.3 26.2 31.5\n 24.6 25.  22.  20.1 21.4 23.7 17.6 18.5 24.3 20.5 24.4 26.2 24.4 24.8\n 29.6 35.2 21.9 20.9 42.3 50.  31.  30.1 33.8 43.1 50.  31.  36.5 22.8\n 33.8 50.  43.1 20.7 21.1 25.2 24.4 35.2 32.  32.  31.  33.1 25.  32.5\n 50.  37.  46.  50.  32.2 16.5 16.5 22.2 22.3 24.8 28.5 36.2 27.9 26.4\n 21.7 28.4 27.1 20.3 22.5 33.1 24.8 24.8 26.4 33.1 36.1 28.4 33.4 28.2\n 23.9 20.3 16.1 22.1 19.4 21.6 23.8 16.2 17.8 18.7 23.1 21.  23.8 23.1\n 20.4 19.9 23.3 24.6 23.  22.2 23.2 24.6 19.8 23.2 19.4 20.7 20.7 21.1\n 19.  18.5 20.6 19.  18.7 31.6 16.5 24.8 31.2 17.5 17.2 23.1 24.5 26.6\n 22.2 26.6 18.6 33.1 19.3 22.1 17.8 20.2 19.5 22.6 25.  19.9 20.8 15.1\n 35.2 27.5 19.9 23.1 50.  23.9 50.  50.  50.  13.8 13.9 15.  13.9  9.5\n 10.5 10.2 10.4  7.2 11.3 12.3  8.8  7.2 10.5  7.4 10.2 11.5 15.1 23.2\n 10.8 13.8 12.7 13.1 12.5 11.5  5.   6.3  5.   7.2 12.1  8.3  8.5  5.\n 11.9 50.  17.2 27.5 15.  17.2 17.9 16.3  7.   7.2  9.5  8.5  5.   8.4\n 12.7 11.  23.1 13.4 11.7  8.3 10.2 10.9 11.   9.5 13.4 14.1 16.1 14.3\n 13.4 13.4  9.6  8.7  8.4 10.8 10.5 17.1 18.4 11.8 10.8 11.8 14.9 12.6\n 14.1 13.  13.4 15.2 17.8 15.  14.9 14.3 12.7 13.5 14.9 20.  16.4 17.7\n 19.5 20.2 21.4 19.9 19.  19.1 19.1 20.1 19.9 19.6 20.2 29.8 13.8 13.3\n 16.7 13.8 12.6 21.4 23.  27.5 25.  21.8 20.6 23.  20.  20.6  7.   7.\n  7.  13.6 20.1 21.8 21.8 18.7 14.4 16.8 21.2 17.5 16.8 22.  20.6 23.9\n 22.  11.9]\n"
     ]
    }
   ],
   "source": [
    "reg = Bagging(DecisionTreeRegressor(), n_estimators=10)\n",
    "reg.fit(X, y)\n",
    "y_hat = reg.predict(X)\n",
    "print(y_hat)"
   ]
  },
  {
   "cell_type": "code",
   "execution_count": 14,
   "metadata": {},
   "outputs": [
    {
     "output_type": "stream",
     "name": "stdout",
     "text": [
      "Error rate: 0.08\n"
     ]
    }
   ],
   "source": [
    "score = reg.score(X, y)\n",
    "print(\"Error rate: %.2f\" %(score))"
   ]
  },
  {
   "cell_type": "code",
   "execution_count": 15,
   "metadata": {},
   "outputs": [
    {
     "output_type": "stream",
     "name": "stdout",
     "text": [
      "Fold 1, loss = 0.4482\n",
      "Fold 2, loss = 0.2036\n",
      "Fold 3, loss = 0.2428\n",
      "Fold 4, loss = 0.7586\n",
      "Fold 5, loss = 0.1443\n"
     ]
    }
   ],
   "source": [
    "reg = Bagging(DecisionTreeRegressor(), n_estimators=10)\n",
    "kf = KFold(5)\n",
    "for k, (train, test) in enumerate(kf.split(X, y)):\n",
    "    X_train, X_test, y_train, y_test = X[train], X[test], y[train], y[test]\n",
    "    reg = reg.fit(X_train, y_train)\n",
    "    score = reg.score(X_test, y_test)\n",
    "    print(\"Fold %d, loss = %.4f\" % (k+1, score))"
   ]
  },
  {
   "cell_type": "code",
   "execution_count": null,
   "metadata": {},
   "outputs": [],
   "source": []
  }
 ]
}